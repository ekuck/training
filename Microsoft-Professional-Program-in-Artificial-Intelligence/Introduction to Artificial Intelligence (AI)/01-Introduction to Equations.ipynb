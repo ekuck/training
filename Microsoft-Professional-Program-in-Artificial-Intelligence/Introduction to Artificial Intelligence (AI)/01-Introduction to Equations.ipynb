Getting Started with Equations
Equations are calculations in which one or more variables represent unknown values. In this notebook, you'll learn some fundamental techniques for solving simple equations.

One Step Equations
Consider the following equation:

𝑥+16=−25
 
The challenge here is to find the value for x, and to do this we need to isolate the variable. In this case, we need to get x onto one side of the "=" sign, and all of the other values onto the other side. To accomplish this we'll follow these rules:

Use opposite operations to cancel out the values we don't want on one side. In this case, the left side of the equation includes an addition of 16, so we'll cancel that out by subtracting 16 and the left side of the equation becomes x + 16 - 16.
Whatever you do to one side, you must also do to the other side. In this case, we subtracted 16 from the left side, so we must also subtract 16 from the right side of the equation, which becomes -25 - 16. Our equation now looks like this:
𝑥+16−16=−25−16
 
Now we can calculate the values on both side. On the left side, 16 - 16 is 0, so we're left with:

𝑥=−25−16
 
Which yields the result -41. Our equation is now solved, as you can see here:

𝑥=−41
 
It's always good practice to verify your result by plugging the variable value you've calculated into the original equation and ensuring that it holds true. We can easily do that by using some simple Python code.

To verify the equation using Python code, place the cursor in the following cell and then click the ►| button in the toolbar.

